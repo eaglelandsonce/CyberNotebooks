{
  "cells": [
    {
      "cell_type": "markdown",
      "metadata": {},
      "source": [
        "# Demo 5: Build Compliance Checklist for AI Chatbots\n",
        "_Aligned to D05.pdf — Cybersecurity Specialization: AI Risk Management Framework Demo Guide_\n"
      ]
    },
    {
      "cell_type": "markdown",
      "metadata": {},
      "source": [
        "## Task 1: Define compliance domains\n",
        "Group individual compliance checklist items under key AI governance areas.\n"
      ]
    },
    {
      "cell_type": "code",
      "metadata": {},
      "execution_count": null,
      "outputs": [],
      "source": [
        "# Task 1 imports (needed for Task 3 as well)\n",
        "import json\n",
        "from datetime import datetime\n"
      ]
    },
    {
      "cell_type": "code",
      "metadata": {},
      "execution_count": null,
      "outputs": [],
      "source": [
        "# Define compliance domains exactly as in D05.pdf\n",
        "compliance_areas = {\n",
        "    \"Data Privacy\": {\n",
        "        \"description\": \"Ensure protection of personal user data (GDPR, HIPAA).\",\n",
        "        \"checks\": [\"User data is anonymized\", \"Consent collected\"]\n",
        "    },\n",
        "    \"Explainability\": {\n",
        "        \"description\": \"Ensure outputs are interpretable to humans (EU AI Act, IEEE guidelines).\",\n",
        "        \"checks\": [\"Model outputs are interpretable\", \"Feature importance is logged\"]\n",
        "    },\n",
        "    \"Auditability\": {\n",
        "        \"description\": \"Ensure chatbot decisions can be traced (NIST AI RMF).\",\n",
        "        \"checks\": [\"All conversations are stored securely\", \"Logs include timestamps and user IDs\"]\n",
        "    },\n",
        "    \"Fairness\": {\n",
        "        \"description\": \"Ensure equal treatment and inclusive language (AI Fairness 360, IBM).\",\n",
        "        \"checks\": [\"Bias metrics are checked monthly\", \"Language models use inclusive vocabulary\"]\n",
        "    }\n",
        "}\n",
        "print(\"Compliance domains defined.\")"
      ]
    },
    {
      "cell_type": "markdown",
      "metadata": {},
      "source": [
        "## Task 2: Generate a compliance report\n",
        "Loop through checklist items and mark them as completed or not.\n"
      ]
    },
    {
      "cell_type": "code",
      "metadata": {},
      "execution_count": null,
      "outputs": [],
      "source": [
        "def generate_checklist(status: dict):\n",
        "    for domain, details in compliance_areas.items():\n",
        "        print(f\"\\n{domain} - {details['description']}\")\n",
        "        for check in details[\"checks\"]:\n",
        "            status_flag = status.get(check, \"Not Done\")\n",
        "            print(f\" - {check}: {status_flag}\")\n",
        "print(\"Function generate_checklist(status) is ready.\")"
      ]
    },
    {
      "cell_type": "code",
      "metadata": {},
      "execution_count": null,
      "outputs": [],
      "source": [
        "# Sample status dictionary (example values from D05.pdf)\n",
        "status_dict = {\n",
        "    \"User data is anonymized\": \"Yes\",\n",
        "    \"Consent collected\": \"Yes\",\n",
        "    \"Model outputs are interpretable\": \"Yes\",\n",
        "    \"Feature importance is logged\": \"No\"\n",
        "}\n",
        "\n",
        "# Display the checklist\n",
        "generate_checklist(status_dict)"
      ]
    },
    {
      "cell_type": "markdown",
      "metadata": {},
      "source": [
        "## Task 3: Export report\n",
        "Save the compliance status to a structured JSON file for audit records.\n"
      ]
    },
    {
      "cell_type": "code",
      "metadata": {},
      "execution_count": null,
      "outputs": [],
      "source": [
        "# Build export structure with metadata and persist to JSON\n",
        "export_report = {\n",
        "    \"report_generated_at\": datetime.now().isoformat(),\n",
        "    \"responsible_contact\": {\n",
        "        \"name\": \"Compliance Officer\",\n",
        "        \"email\": \"compliance@ai-chatbot.org\"\n",
        "    },\n",
        "    \"compliance_status\": {}\n",
        "}\n",
        "\n",
        "for domain, details in compliance_areas.items():\n",
        "    export_report[\"compliance_status\"][domain] = {\n",
        "        \"description\": details[\"description\"],\n",
        "        \"items\": {}\n",
        "    }\n",
        "    for check in details[\"checks\"]:\n",
        "        export_report[\"compliance_status\"][domain][\"items\"][check] = status_dict.get(check, \"Not Done\")\n",
        "\n",
        "with open(\"chatbot_compliance_report.json\", \"w\") as f:\n",
        "    json.dump(export_report, f, indent=4)\n",
        "\n",
        "print(\"Compliance report saved to chatbot_compliance_report.json\")"
      ]
    },
    {
      "cell_type": "markdown",
      "metadata": {},
      "source": [
        "### Notes\n",
        "- This notebook is aligned to the exact code structure in **D05.pdf**.\n",
        "- Run cells top-to-bottom. After Task 3, a file named `chatbot_compliance_report.json` will appear in the working directory.\n",
        "- You may edit `status_dict` to reflect your system's current compliance state.\n"
      ]
    }
  ],
  "metadata": {
    "kernelspec": {
      "display_name": "Python 3",
      "language": "python",
      "name": "python3"
    },
    "language_info": {
      "name": "python",
      "version": "3.x"
    }
  },
  "nbformat": 4,
  "nbformat_minor": 5
}